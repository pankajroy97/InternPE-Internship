{
  "nbformat": 4,
  "nbformat_minor": 0,
  "metadata": {
    "colab": {
      "provenance": [],
      "authorship_tag": "ABX9TyMYwFo/RanpzV8aOIj8lJny",
      "include_colab_link": true
    },
    "kernelspec": {
      "name": "python3",
      "display_name": "Python 3"
    },
    "language_info": {
      "name": "python"
    }
  },
  "cells": [
    {
      "cell_type": "markdown",
      "metadata": {
        "id": "view-in-github",
        "colab_type": "text"
      },
      "source": [
        "<a href=\"https://colab.research.google.com/github/pankajroy97/TIC-TAC-TOE-Game-InternPE/blob/main/TIC_TAC_TOE.ipynb\" target=\"_parent\"><img src=\"https://colab.research.google.com/assets/colab-badge.svg\" alt=\"Open In Colab\"/></a>"
      ]
    },
    {
      "cell_type": "code",
      "execution_count": null,
      "metadata": {
        "id": "0ER_PYPbQUG5"
      },
      "outputs": [],
      "source": [
        "board=[\"-\",\"-\",\"-\",\n",
        "       \"-\",\"-\",\"-\",\n",
        "       \"-\",\"-\",\"-\"]\n",
        "\n",
        "Currentplayer=\"X\" \n",
        "winner=None\n",
        "gamerunning=True"
      ]
    },
    {
      "cell_type": "code",
      "source": [
        "def printboard(board):\n",
        "  print(board[0]+\"|\"+board[1]+\"|\"+board[2])\n",
        "  print(\"-------\")\n",
        "  print(board[3]+\"|\"+board[4]+\"|\"+board[5])\n",
        "  print(\"-------\")\n",
        "  print(board[6]+\"|\"+board[7]+\"|\"+board[8]) "
      ],
      "metadata": {
        "id": "oWTyQmK7QbFi"
      },
      "execution_count": null,
      "outputs": []
    },
    {
      "cell_type": "code",
      "source": [
        "def playerinput(board):\n",
        "  n=int(input(\"enter a number of position 1-9 \"))\n",
        "  if n>=1 and n<=9 and board[n-1]=='-':\n",
        "    board[n-1]=Currentplayer\n",
        "  else:\n",
        "    print(\"player is already occur that position\") "
      ],
      "metadata": {
        "id": "bg4kQSUCQdIp"
      },
      "execution_count": null,
      "outputs": []
    },
    {
      "cell_type": "code",
      "source": [
        "def checkwinnerhorizontal(board):\n",
        "  global winner\n",
        "  if board[0]==board[1]==board[2] and board[0]!=\"-\":\n",
        "    winner=board[0]\n",
        "    return True\n",
        "  elif board[3]==board[4]==board[5] and board[3]!=\"-\":\n",
        "    winner=board[3]\n",
        "    return True\n",
        "  elif board[6]==board[7]==board[8] and board[6]!=\"-\":\n",
        "    winner=board[6]\n",
        "    return True  "
      ],
      "metadata": {
        "id": "WN_tGogpQgPK"
      },
      "execution_count": null,
      "outputs": []
    },
    {
      "cell_type": "code",
      "source": [
        "def checkwinnervertical(board):\n",
        "  global winner\n",
        "  if board[0]==board[3]==board[6] and board[0]!=\"-\":\n",
        "    winner=board[0]\n",
        "    return True\n",
        "  elif board[1]==board[4]==board[7] and board[1]!=\"-\":\n",
        "    winner=board[1]\n",
        "    return True\n",
        "  elif board[2]==board[5]==board[8] and board[2]!=\"-\":\n",
        "    winner=board[2]\n",
        "    return True  "
      ],
      "metadata": {
        "id": "NVnlwNDHQinJ"
      },
      "execution_count": null,
      "outputs": []
    },
    {
      "cell_type": "code",
      "source": [
        "def checkwinnerdiagonal(board):\n",
        "  global winner\n",
        "  if board[0]==board[4]==board[8] and board[0]!=\"-\":\n",
        "    winner=board[0]\n",
        "    return True\n",
        "  elif board[2]==board[4]==board[6] and board[2]!=\"-\":\n",
        "    winner=board[2]\n",
        "    return True    "
      ],
      "metadata": {
        "id": "SYYAEGAyQkxR"
      },
      "execution_count": null,
      "outputs": []
    },
    {
      "cell_type": "code",
      "source": [
        "def checktie(board):\n",
        "  global gamerunning\n",
        "  if \"-\" not in board:\n",
        "    print('It is a tie')\n",
        "    gamerunning=False"
      ],
      "metadata": {
        "id": "FDHhyzPEQmzy"
      },
      "execution_count": null,
      "outputs": []
    },
    {
      "cell_type": "code",
      "source": [
        "def switchplayer(board):\n",
        "  global Currentplayer\n",
        "  if Currentplayer==\"X\":\n",
        "    Currentplayer=\"O\"\n",
        "  else:\n",
        "    Currentplayer=\"X\"  "
      ],
      "metadata": {
        "id": "lH8jkXdMQo8J"
      },
      "execution_count": null,
      "outputs": []
    },
    {
      "cell_type": "code",
      "source": [
        "def checkwon(board):\n",
        "  global gamerunning\n",
        "  if checkwinnerhorizontal(board) or checkwinnervertical(board) or checkwinnerdiagonal(board):\n",
        "    print(\"the winner\",winner)\n",
        "    print(printboard(board))\n",
        "    gamerunning=False"
      ],
      "metadata": {
        "id": "VQHXPK5pQrjc"
      },
      "execution_count": null,
      "outputs": []
    },
    {
      "cell_type": "code",
      "source": [
        "while gamerunning:\n",
        "  printboard(board)\n",
        "  playerinput(board)\n",
        "  checktie(board)\n",
        "  switchplayer(board)\n",
        "  checkwon(board)"
      ],
      "metadata": {
        "colab": {
          "base_uri": "https://localhost:8080/"
        },
        "id": "a40d8NhOQuWZ",
        "outputId": "bad22686-c676-471e-f29d-c6b3877f635d"
      },
      "execution_count": null,
      "outputs": [
        {
          "output_type": "stream",
          "name": "stdout",
          "text": [
            "-|-|-\n",
            "-------\n",
            "-|-|-\n",
            "-------\n",
            "-|-|-\n",
            "enter a number of position 1-9 1\n",
            "X|-|-\n",
            "-------\n",
            "-|-|-\n",
            "-------\n",
            "-|-|-\n",
            "enter a number of position 1-9 2\n",
            "X|O|-\n",
            "-------\n",
            "-|-|-\n",
            "-------\n",
            "-|-|-\n",
            "enter a number of position 1-9 3\n",
            "X|O|X\n",
            "-------\n",
            "-|-|-\n",
            "-------\n",
            "-|-|-\n",
            "enter a number of position 1-9 4\n",
            "X|O|X\n",
            "-------\n",
            "O|-|-\n",
            "-------\n",
            "-|-|-\n",
            "enter a number of position 1-9 5\n",
            "X|O|X\n",
            "-------\n",
            "O|X|-\n",
            "-------\n",
            "-|-|-\n",
            "enter a number of position 1-9 6\n",
            "X|O|X\n",
            "-------\n",
            "O|X|O\n",
            "-------\n",
            "-|-|-\n",
            "enter a number of position 1-9 7\n",
            "the winner X\n",
            "X|O|X\n",
            "-------\n",
            "O|X|O\n",
            "-------\n",
            "X|-|-\n",
            "None\n"
          ]
        }
      ]
    }
  ]
}